{
  "metadata": {
    "kernelspec": {
      "language": "python",
      "display_name": "Python 3",
      "name": "python3"
    },
    "language_info": {
      "name": "python",
      "version": "3.11.11",
      "mimetype": "text/x-python",
      "codemirror_mode": {
        "name": "ipython",
        "version": 3
      },
      "pygments_lexer": "ipython3",
      "nbconvert_exporter": "python",
      "file_extension": ".py"
    },
    "kaggle": {
      "accelerator": "none",
      "dataSources": [
        {
          "sourceId": 11457294,
          "sourceType": "datasetVersion",
          "datasetId": 7178868
        }
      ],
      "dockerImageVersionId": 31012,
      "isInternetEnabled": true,
      "language": "python",
      "sourceType": "notebook",
      "isGpuEnabled": false
    },
    "colab": {
      "provenance": []
    }
  },
  "nbformat_minor": 0,
  "nbformat": 4,
  "cells": [
    {
      "cell_type": "markdown",
      "source": [
        "**Shreya Singh MDS202434**"
      ],
      "metadata": {
        "id": "lTMRtdHcxJ9X"
      }
    },
    {
      "cell_type": "code",
      "source": [
        "# This Python 3 environment comes with many helpful analytics libraries installed\n",
        "# It is defined by the kaggle/python Docker image: https://github.com/kaggle/docker-python\n",
        "# For example, here's several helpful packages to load\n",
        "\n",
        "import numpy as np # linear algebra\n",
        "import pandas as pd # data processing, CSV file I/O (e.g. pd.read_csv)\n",
        "\n",
        "# Input data files are available in the read-only \"../input/\" directory\n",
        "# For example, running this (by clicking run or pressing Shift+Enter) will list all files under the input directory\n",
        "\n",
        "import os\n",
        "for dirname, _, filenames in os.walk('/kaggle/input'):\n",
        "    for filename in filenames:\n",
        "        print(os.path.join(dirname, filename))\n",
        "\n",
        "# You can write up to 20GB to the current directory (/kaggle/working/) that gets preserved as output when you create a version using \"Save & Run All\"\n",
        "# You can also write temporary files to /kaggle/temp/, but they won't be saved outside of the current session"
      ],
      "metadata": {
        "_uuid": "8f2839f25d086af736a60e9eeb907d3b93b6e0e5",
        "_cell_guid": "b1076dfc-b9ad-4769-8c92-a6c4dae69d19",
        "trusted": true,
        "execution": {
          "iopub.status.busy": "2025-04-18T06:45:02.079140Z",
          "iopub.execute_input": "2025-04-18T06:45:02.079405Z",
          "iopub.status.idle": "2025-04-18T06:45:03.453331Z",
          "shell.execute_reply.started": "2025-04-18T06:45:02.079382Z",
          "shell.execute_reply": "2025-04-18T06:45:03.452149Z"
        },
        "id": "IfTjCqVoxHYr",
        "outputId": "7b9d37eb-6190-4e2b-9556-da13f8029afd"
      },
      "outputs": [
        {
          "name": "stdout",
          "text": "/kaggle/input/adult-data/adult.data\n",
          "output_type": "stream"
        }
      ],
      "execution_count": null
    },
    {
      "cell_type": "code",
      "source": [
        "import warnings\n",
        "warnings.filterwarnings( \"ignore\",    message=\".*should_run_async.*\",category=DeprecationWarning)\n",
        "warnings.filterwarnings(\"ignore\")"
      ],
      "metadata": {
        "trusted": true,
        "execution": {
          "iopub.status.busy": "2025-04-18T06:45:26.424857Z",
          "iopub.execute_input": "2025-04-18T06:45:26.425920Z",
          "iopub.status.idle": "2025-04-18T06:45:26.430443Z",
          "shell.execute_reply.started": "2025-04-18T06:45:26.425882Z",
          "shell.execute_reply": "2025-04-18T06:45:26.429429Z"
        },
        "id": "lUAuHGmkxHYt"
      },
      "outputs": [],
      "execution_count": null
    },
    {
      "cell_type": "code",
      "source": [
        "import pandas as pd\n",
        "import os"
      ],
      "metadata": {
        "trusted": true,
        "execution": {
          "iopub.status.busy": "2025-04-18T06:45:34.249558Z",
          "iopub.execute_input": "2025-04-18T06:45:34.249930Z",
          "iopub.status.idle": "2025-04-18T06:45:34.254286Z",
          "shell.execute_reply.started": "2025-04-18T06:45:34.249907Z",
          "shell.execute_reply": "2025-04-18T06:45:34.253450Z"
        },
        "id": "7ib-_yGPxHYt"
      },
      "outputs": [],
      "execution_count": null
    },
    {
      "cell_type": "code",
      "source": [
        "pip install great_expectations==1.0.0a1"
      ],
      "metadata": {
        "trusted": true,
        "execution": {
          "iopub.status.busy": "2025-04-18T06:45:41.480466Z",
          "iopub.execute_input": "2025-04-18T06:45:41.481437Z",
          "iopub.status.idle": "2025-04-18T06:45:50.725677Z",
          "shell.execute_reply.started": "2025-04-18T06:45:41.481397Z",
          "shell.execute_reply": "2025-04-18T06:45:50.724599Z"
        },
        "id": "g7zcIH3XxHYt",
        "outputId": "306c8d47-e369-4443-bd47-a09a51460317"
      },
      "outputs": [
        {
          "name": "stdout",
          "text": "Collecting great_expectations==1.0.0a1\n  Downloading great_expectations-1.0.0a1-py3-none-any.whl.metadata (8.8 kB)\nCollecting altair<5.0.0,>=4.2.1 (from great_expectations==1.0.0a1)\n  Downloading altair-4.2.2-py3-none-any.whl.metadata (13 kB)\nRequirement already satisfied: cryptography>=3.2 in /usr/local/lib/python3.11/dist-packages (from great_expectations==1.0.0a1) (44.0.2)\nRequirement already satisfied: Ipython>=7.16.3 in /usr/local/lib/python3.11/dist-packages (from great_expectations==1.0.0a1) (7.34.0)\nRequirement already satisfied: ipywidgets>=7.5.1 in /usr/local/lib/python3.11/dist-packages (from great_expectations==1.0.0a1) (8.1.5)\nRequirement already satisfied: jinja2>=2.10 in /usr/local/lib/python3.11/dist-packages (from great_expectations==1.0.0a1) (3.1.6)\nRequirement already satisfied: jsonschema>=2.5.1 in /usr/local/lib/python3.11/dist-packages (from great_expectations==1.0.0a1) (4.23.0)\nCollecting makefun<2,>=1.7.0 (from great_expectations==1.0.0a1)\n  Downloading makefun-1.15.6-py2.py3-none-any.whl.metadata (3.2 kB)\nRequirement already satisfied: marshmallow<4.0.0,>=3.7.1 in /usr/local/lib/python3.11/dist-packages (from great_expectations==1.0.0a1) (3.26.1)\nRequirement already satisfied: mistune>=0.8.4 in /usr/local/lib/python3.11/dist-packages (from great_expectations==1.0.0a1) (0.8.4)\nRequirement already satisfied: packaging in /usr/local/lib/python3.11/dist-packages (from great_expectations==1.0.0a1) (24.2)\nCollecting posthog<3,>=2.1.0 (from great_expectations==1.0.0a1)\n  Downloading posthog-2.5.0-py2.py3-none-any.whl.metadata (2.0 kB)\nRequirement already satisfied: pydantic>=1.10.7 in /usr/local/lib/python3.11/dist-packages (from great_expectations==1.0.0a1) (2.11.3)\nRequirement already satisfied: pyparsing>=2.4 in /usr/local/lib/python3.11/dist-packages (from great_expectations==1.0.0a1) (3.2.1)\nRequirement already satisfied: python-dateutil>=2.8.1 in /usr/local/lib/python3.11/dist-packages (from great_expectations==1.0.0a1) (2.9.0.post0)\nRequirement already satisfied: pytz>=2021.3 in /usr/local/lib/python3.11/dist-packages (from great_expectations==1.0.0a1) (2025.2)\nRequirement already satisfied: requests>=2.20 in /usr/local/lib/python3.11/dist-packages (from great_expectations==1.0.0a1) (2.32.3)\nCollecting ruamel.yaml<0.17.18,>=0.16 (from great_expectations==1.0.0a1)\n  Downloading ruamel.yaml-0.17.17-py3-none-any.whl.metadata (12 kB)\nRequirement already satisfied: scipy>=1.6.0 in /usr/local/lib/python3.11/dist-packages (from great_expectations==1.0.0a1) (1.15.2)\nRequirement already satisfied: tqdm>=4.59.0 in /usr/local/lib/python3.11/dist-packages (from great_expectations==1.0.0a1) (4.67.1)\nRequirement already satisfied: typing-extensions>=4.1.0 in /usr/local/lib/python3.11/dist-packages (from great_expectations==1.0.0a1) (4.13.1)\nRequirement already satisfied: tzlocal>=1.2 in /usr/local/lib/python3.11/dist-packages (from great_expectations==1.0.0a1) (5.3)\nRequirement already satisfied: urllib3>=1.26 in /usr/local/lib/python3.11/dist-packages (from great_expectations==1.0.0a1) (2.3.0)\nRequirement already satisfied: numpy<2.0.0,>=1.22.4 in /usr/local/lib/python3.11/dist-packages (from great_expectations==1.0.0a1) (1.26.4)\nRequirement already satisfied: pandas>=1.3.0 in /usr/local/lib/python3.11/dist-packages (from great_expectations==1.0.0a1) (2.2.3)\nRequirement already satisfied: entrypoints in /usr/local/lib/python3.11/dist-packages (from altair<5.0.0,>=4.2.1->great_expectations==1.0.0a1) (0.4)\nRequirement already satisfied: toolz in /usr/local/lib/python3.11/dist-packages (from altair<5.0.0,>=4.2.1->great_expectations==1.0.0a1) (1.0.0)\nRequirement already satisfied: cffi>=1.12 in /usr/local/lib/python3.11/dist-packages (from cryptography>=3.2->great_expectations==1.0.0a1) (1.17.1)\nRequirement already satisfied: setuptools>=18.5 in /usr/local/lib/python3.11/dist-packages (from Ipython>=7.16.3->great_expectations==1.0.0a1) (75.1.0)\nRequirement already satisfied: jedi>=0.16 in /usr/local/lib/python3.11/dist-packages (from Ipython>=7.16.3->great_expectations==1.0.0a1) (0.19.2)\nRequirement already satisfied: decorator in /usr/local/lib/python3.11/dist-packages (from Ipython>=7.16.3->great_expectations==1.0.0a1) (4.4.2)\nRequirement already satisfied: pickleshare in /usr/local/lib/python3.11/dist-packages (from Ipython>=7.16.3->great_expectations==1.0.0a1) (0.7.5)\nRequirement already satisfied: traitlets>=4.2 in /usr/local/lib/python3.11/dist-packages (from Ipython>=7.16.3->great_expectations==1.0.0a1) (5.7.1)\nRequirement already satisfied: prompt-toolkit!=3.0.0,!=3.0.1,<3.1.0,>=2.0.0 in /usr/local/lib/python3.11/dist-packages (from Ipython>=7.16.3->great_expectations==1.0.0a1) (3.0.50)\nRequirement already satisfied: pygments in /usr/local/lib/python3.11/dist-packages (from Ipython>=7.16.3->great_expectations==1.0.0a1) (2.19.1)\nRequirement already satisfied: backcall in /usr/local/lib/python3.11/dist-packages (from Ipython>=7.16.3->great_expectations==1.0.0a1) (0.2.0)\nRequirement already satisfied: matplotlib-inline in /usr/local/lib/python3.11/dist-packages (from Ipython>=7.16.3->great_expectations==1.0.0a1) (0.1.7)\nRequirement already satisfied: pexpect>4.3 in /usr/local/lib/python3.11/dist-packages (from Ipython>=7.16.3->great_expectations==1.0.0a1) (4.9.0)\nRequirement already satisfied: comm>=0.1.3 in /usr/local/lib/python3.11/dist-packages (from ipywidgets>=7.5.1->great_expectations==1.0.0a1) (0.2.2)\nRequirement already satisfied: widgetsnbextension~=4.0.12 in /usr/local/lib/python3.11/dist-packages (from ipywidgets>=7.5.1->great_expectations==1.0.0a1) (4.0.13)\nRequirement already satisfied: jupyterlab-widgets~=3.0.12 in /usr/local/lib/python3.11/dist-packages (from ipywidgets>=7.5.1->great_expectations==1.0.0a1) (3.0.13)\nRequirement already satisfied: MarkupSafe>=2.0 in /usr/local/lib/python3.11/dist-packages (from jinja2>=2.10->great_expectations==1.0.0a1) (3.0.2)\nRequirement already satisfied: attrs>=22.2.0 in /usr/local/lib/python3.11/dist-packages (from jsonschema>=2.5.1->great_expectations==1.0.0a1) (25.3.0)\nRequirement already satisfied: jsonschema-specifications>=2023.03.6 in /usr/local/lib/python3.11/dist-packages (from jsonschema>=2.5.1->great_expectations==1.0.0a1) (2024.10.1)\nRequirement already satisfied: referencing>=0.28.4 in /usr/local/lib/python3.11/dist-packages (from jsonschema>=2.5.1->great_expectations==1.0.0a1) (0.36.2)\nRequirement already satisfied: rpds-py>=0.7.1 in /usr/local/lib/python3.11/dist-packages (from jsonschema>=2.5.1->great_expectations==1.0.0a1) (0.22.3)\nRequirement already satisfied: mkl_fft in /usr/local/lib/python3.11/dist-packages (from numpy<2.0.0,>=1.22.4->great_expectations==1.0.0a1) (1.3.8)\nRequirement already satisfied: mkl_random in /usr/local/lib/python3.11/dist-packages (from numpy<2.0.0,>=1.22.4->great_expectations==1.0.0a1) (1.2.4)\nRequirement already satisfied: mkl_umath in /usr/local/lib/python3.11/dist-packages (from numpy<2.0.0,>=1.22.4->great_expectations==1.0.0a1) (0.1.1)\nRequirement already satisfied: mkl in /usr/local/lib/python3.11/dist-packages (from numpy<2.0.0,>=1.22.4->great_expectations==1.0.0a1) (2025.1.0)\nRequirement already satisfied: tbb4py in /usr/local/lib/python3.11/dist-packages (from numpy<2.0.0,>=1.22.4->great_expectations==1.0.0a1) (2022.1.0)\nRequirement already satisfied: mkl-service in /usr/local/lib/python3.11/dist-packages (from numpy<2.0.0,>=1.22.4->great_expectations==1.0.0a1) (2.4.1)\nRequirement already satisfied: tzdata>=2022.7 in /usr/local/lib/python3.11/dist-packages (from pandas>=1.3.0->great_expectations==1.0.0a1) (2025.2)\nRequirement already satisfied: six>=1.5 in /usr/local/lib/python3.11/dist-packages (from posthog<3,>=2.1.0->great_expectations==1.0.0a1) (1.17.0)\nCollecting monotonic>=1.5 (from posthog<3,>=2.1.0->great_expectations==1.0.0a1)\n  Downloading monotonic-1.6-py2.py3-none-any.whl.metadata (1.5 kB)\nCollecting backoff>=1.10.0 (from posthog<3,>=2.1.0->great_expectations==1.0.0a1)\n  Downloading backoff-2.2.1-py3-none-any.whl.metadata (14 kB)\nRequirement already satisfied: annotated-types>=0.6.0 in /usr/local/lib/python3.11/dist-packages (from pydantic>=1.10.7->great_expectations==1.0.0a1) (0.7.0)\nRequirement already satisfied: pydantic-core==2.33.1 in /usr/local/lib/python3.11/dist-packages (from pydantic>=1.10.7->great_expectations==1.0.0a1) (2.33.1)\nRequirement already satisfied: typing-inspection>=0.4.0 in /usr/local/lib/python3.11/dist-packages (from pydantic>=1.10.7->great_expectations==1.0.0a1) (0.4.0)\nRequirement already satisfied: charset-normalizer<4,>=2 in /usr/local/lib/python3.11/dist-packages (from requests>=2.20->great_expectations==1.0.0a1) (3.4.1)\nRequirement already satisfied: idna<4,>=2.5 in /usr/local/lib/python3.11/dist-packages (from requests>=2.20->great_expectations==1.0.0a1) (3.10)\nRequirement already satisfied: certifi>=2017.4.17 in /usr/local/lib/python3.11/dist-packages (from requests>=2.20->great_expectations==1.0.0a1) (2025.1.31)\nRequirement already satisfied: pycparser in /usr/local/lib/python3.11/dist-packages (from cffi>=1.12->cryptography>=3.2->great_expectations==1.0.0a1) (2.22)\nRequirement already satisfied: parso<0.9.0,>=0.8.4 in /usr/local/lib/python3.11/dist-packages (from jedi>=0.16->Ipython>=7.16.3->great_expectations==1.0.0a1) (0.8.4)\nRequirement already satisfied: ptyprocess>=0.5 in /usr/local/lib/python3.11/dist-packages (from pexpect>4.3->Ipython>=7.16.3->great_expectations==1.0.0a1) (0.7.0)\nRequirement already satisfied: wcwidth in /usr/local/lib/python3.11/dist-packages (from prompt-toolkit!=3.0.0,!=3.0.1,<3.1.0,>=2.0.0->Ipython>=7.16.3->great_expectations==1.0.0a1) (0.2.13)\nRequirement already satisfied: intel-openmp<2026,>=2024 in /usr/local/lib/python3.11/dist-packages (from mkl->numpy<2.0.0,>=1.22.4->great_expectations==1.0.0a1) (2024.2.0)\nRequirement already satisfied: tbb==2022.* in /usr/local/lib/python3.11/dist-packages (from mkl->numpy<2.0.0,>=1.22.4->great_expectations==1.0.0a1) (2022.1.0)\nRequirement already satisfied: tcmlib==1.* in /usr/local/lib/python3.11/dist-packages (from tbb==2022.*->mkl->numpy<2.0.0,>=1.22.4->great_expectations==1.0.0a1) (1.2.0)\nRequirement already satisfied: intel-cmplr-lib-rt in /usr/local/lib/python3.11/dist-packages (from mkl_umath->numpy<2.0.0,>=1.22.4->great_expectations==1.0.0a1) (2024.2.0)\nRequirement already satisfied: intel-cmplr-lib-ur==2024.2.0 in /usr/local/lib/python3.11/dist-packages (from intel-openmp<2026,>=2024->mkl->numpy<2.0.0,>=1.22.4->great_expectations==1.0.0a1) (2024.2.0)\nDownloading great_expectations-1.0.0a1-py3-none-any.whl (5.2 MB)\n\u001b[2K   \u001b[90m━━━━━━━━━━━━━━━━━━━━━━━━━━━━━━━━━━━━━━━━\u001b[0m \u001b[32m5.2/5.2 MB\u001b[0m \u001b[31m41.9 MB/s\u001b[0m eta \u001b[36m0:00:00\u001b[0m00:01\u001b[0m00:01\u001b[0m\n\u001b[?25hDownloading altair-4.2.2-py3-none-any.whl (813 kB)\n\u001b[2K   \u001b[90m━━━━━━━━━━━━━━━━━━━━━━━━━━━━━━━━━━━━━━━━\u001b[0m \u001b[32m813.6/813.6 kB\u001b[0m \u001b[31m34.5 MB/s\u001b[0m eta \u001b[36m0:00:00\u001b[0m\n\u001b[?25hDownloading makefun-1.15.6-py2.py3-none-any.whl (22 kB)\nDownloading posthog-2.5.0-py2.py3-none-any.whl (36 kB)\nDownloading ruamel.yaml-0.17.17-py3-none-any.whl (109 kB)\n\u001b[2K   \u001b[90m━━━━━━━━━━━━━━━━━━━━━━━━━━━━━━━━━━━━━━━━\u001b[0m \u001b[32m109.1/109.1 kB\u001b[0m \u001b[31m5.3 MB/s\u001b[0m eta \u001b[36m0:00:00\u001b[0m\n\u001b[?25hDownloading backoff-2.2.1-py3-none-any.whl (15 kB)\nDownloading monotonic-1.6-py2.py3-none-any.whl (8.2 kB)\nInstalling collected packages: monotonic, makefun, ruamel.yaml, backoff, posthog, altair, great_expectations\n  Attempting uninstall: altair\n    Found existing installation: altair 5.5.0\n    Uninstalling altair-5.5.0:\n      Successfully uninstalled altair-5.5.0\nSuccessfully installed altair-4.2.2 backoff-2.2.1 great_expectations-1.0.0a1 makefun-1.15.6 monotonic-1.6 posthog-2.5.0 ruamel.yaml-0.17.17\nNote: you may need to restart the kernel to use updated packages.\n",
          "output_type": "stream"
        }
      ],
      "execution_count": null
    },
    {
      "cell_type": "code",
      "source": [
        "# Define column names (from UCI Adult dataset)\n",
        "column_names = [\n",
        "    'age', 'workclass', 'fnlwgt', 'education', 'education-num',\n",
        "    'marital-status', 'occupation', 'relationship', 'race', 'sex',\n",
        "    'capital-gain', 'capital-loss', 'hours-per-week', 'native-country', 'income'\n",
        "]\n",
        "\n",
        "# Load the dataset\n",
        "df = pd.read_csv(\n",
        "    \"/kaggle/input/adult-data/adult.data\",\n",
        "    header=None,\n",
        "    names=column_names,\n",
        "    na_values=' ?',\n",
        "    skipinitialspace=True\n",
        ")\n",
        "\n",
        "# Check first 5 rows\n",
        "df.head()"
      ],
      "metadata": {
        "trusted": true,
        "execution": {
          "iopub.status.busy": "2025-04-18T06:46:42.858182Z",
          "iopub.execute_input": "2025-04-18T06:46:42.858996Z",
          "iopub.status.idle": "2025-04-18T06:46:43.051812Z",
          "shell.execute_reply.started": "2025-04-18T06:46:42.858949Z",
          "shell.execute_reply": "2025-04-18T06:46:43.050904Z"
        },
        "id": "PQgx29tUxHYt",
        "outputId": "4d71bb9b-228c-422b-aee7-41b1efbaf1db"
      },
      "outputs": [
        {
          "execution_count": 7,
          "output_type": "execute_result",
          "data": {
            "text/plain": "   age         workclass  fnlwgt  education  education-num  \\\n0   39         State-gov   77516  Bachelors             13   \n1   50  Self-emp-not-inc   83311  Bachelors             13   \n2   38           Private  215646    HS-grad              9   \n3   53           Private  234721       11th              7   \n4   28           Private  338409  Bachelors             13   \n\n       marital-status         occupation   relationship   race     sex  \\\n0       Never-married       Adm-clerical  Not-in-family  White    Male   \n1  Married-civ-spouse    Exec-managerial        Husband  White    Male   \n2            Divorced  Handlers-cleaners  Not-in-family  White    Male   \n3  Married-civ-spouse  Handlers-cleaners        Husband  Black    Male   \n4  Married-civ-spouse     Prof-specialty           Wife  Black  Female   \n\n   capital-gain  capital-loss  hours-per-week native-country income  \n0          2174             0              40  United-States  <=50K  \n1             0             0              13  United-States  <=50K  \n2             0             0              40  United-States  <=50K  \n3             0             0              40  United-States  <=50K  \n4             0             0              40           Cuba  <=50K  ",
            "text/html": "<div>\n<style scoped>\n    .dataframe tbody tr th:only-of-type {\n        vertical-align: middle;\n    }\n\n    .dataframe tbody tr th {\n        vertical-align: top;\n    }\n\n    .dataframe thead th {\n        text-align: right;\n    }\n</style>\n<table border=\"1\" class=\"dataframe\">\n  <thead>\n    <tr style=\"text-align: right;\">\n      <th></th>\n      <th>age</th>\n      <th>workclass</th>\n      <th>fnlwgt</th>\n      <th>education</th>\n      <th>education-num</th>\n      <th>marital-status</th>\n      <th>occupation</th>\n      <th>relationship</th>\n      <th>race</th>\n      <th>sex</th>\n      <th>capital-gain</th>\n      <th>capital-loss</th>\n      <th>hours-per-week</th>\n      <th>native-country</th>\n      <th>income</th>\n    </tr>\n  </thead>\n  <tbody>\n    <tr>\n      <th>0</th>\n      <td>39</td>\n      <td>State-gov</td>\n      <td>77516</td>\n      <td>Bachelors</td>\n      <td>13</td>\n      <td>Never-married</td>\n      <td>Adm-clerical</td>\n      <td>Not-in-family</td>\n      <td>White</td>\n      <td>Male</td>\n      <td>2174</td>\n      <td>0</td>\n      <td>40</td>\n      <td>United-States</td>\n      <td>&lt;=50K</td>\n    </tr>\n    <tr>\n      <th>1</th>\n      <td>50</td>\n      <td>Self-emp-not-inc</td>\n      <td>83311</td>\n      <td>Bachelors</td>\n      <td>13</td>\n      <td>Married-civ-spouse</td>\n      <td>Exec-managerial</td>\n      <td>Husband</td>\n      <td>White</td>\n      <td>Male</td>\n      <td>0</td>\n      <td>0</td>\n      <td>13</td>\n      <td>United-States</td>\n      <td>&lt;=50K</td>\n    </tr>\n    <tr>\n      <th>2</th>\n      <td>38</td>\n      <td>Private</td>\n      <td>215646</td>\n      <td>HS-grad</td>\n      <td>9</td>\n      <td>Divorced</td>\n      <td>Handlers-cleaners</td>\n      <td>Not-in-family</td>\n      <td>White</td>\n      <td>Male</td>\n      <td>0</td>\n      <td>0</td>\n      <td>40</td>\n      <td>United-States</td>\n      <td>&lt;=50K</td>\n    </tr>\n    <tr>\n      <th>3</th>\n      <td>53</td>\n      <td>Private</td>\n      <td>234721</td>\n      <td>11th</td>\n      <td>7</td>\n      <td>Married-civ-spouse</td>\n      <td>Handlers-cleaners</td>\n      <td>Husband</td>\n      <td>Black</td>\n      <td>Male</td>\n      <td>0</td>\n      <td>0</td>\n      <td>40</td>\n      <td>United-States</td>\n      <td>&lt;=50K</td>\n    </tr>\n    <tr>\n      <th>4</th>\n      <td>28</td>\n      <td>Private</td>\n      <td>338409</td>\n      <td>Bachelors</td>\n      <td>13</td>\n      <td>Married-civ-spouse</td>\n      <td>Prof-specialty</td>\n      <td>Wife</td>\n      <td>Black</td>\n      <td>Female</td>\n      <td>0</td>\n      <td>0</td>\n      <td>40</td>\n      <td>Cuba</td>\n      <td>&lt;=50K</td>\n    </tr>\n  </tbody>\n</table>\n</div>"
          },
          "metadata": {}
        }
      ],
      "execution_count": null
    },
    {
      "cell_type": "code",
      "source": [
        "df.info()"
      ],
      "metadata": {
        "trusted": true,
        "execution": {
          "iopub.status.busy": "2025-04-18T06:47:11.188045Z",
          "iopub.execute_input": "2025-04-18T06:47:11.188473Z",
          "iopub.status.idle": "2025-04-18T06:47:11.234934Z",
          "shell.execute_reply.started": "2025-04-18T06:47:11.188435Z",
          "shell.execute_reply": "2025-04-18T06:47:11.233991Z"
        },
        "id": "GSRs4dBaxHYt",
        "outputId": "6b95c652-7163-4bb5-e7c6-7c5b098bb642"
      },
      "outputs": [
        {
          "name": "stdout",
          "text": "<class 'pandas.core.frame.DataFrame'>\nRangeIndex: 32561 entries, 0 to 32560\nData columns (total 15 columns):\n #   Column          Non-Null Count  Dtype \n---  ------          --------------  ----- \n 0   age             32561 non-null  int64 \n 1   workclass       32561 non-null  object\n 2   fnlwgt          32561 non-null  int64 \n 3   education       32561 non-null  object\n 4   education-num   32561 non-null  int64 \n 5   marital-status  32561 non-null  object\n 6   occupation      32561 non-null  object\n 7   relationship    32561 non-null  object\n 8   race            32561 non-null  object\n 9   sex             32561 non-null  object\n 10  capital-gain    32561 non-null  int64 \n 11  capital-loss    32561 non-null  int64 \n 12  hours-per-week  32561 non-null  int64 \n 13  native-country  32561 non-null  object\n 14  income          32561 non-null  object\ndtypes: int64(6), object(9)\nmemory usage: 3.7+ MB\n",
          "output_type": "stream"
        }
      ],
      "execution_count": null
    },
    {
      "cell_type": "code",
      "source": [
        "int_columns = ['age', 'fnlwgt', 'education-num', 'capital-gain', 'capital-loss', 'hours-per-week']\n",
        "for col in int_columns:\n",
        "    df[col] = df[col].astype(int)"
      ],
      "metadata": {
        "trusted": true,
        "execution": {
          "iopub.status.busy": "2025-04-18T06:47:46.059729Z",
          "iopub.execute_input": "2025-04-18T06:47:46.060547Z",
          "iopub.status.idle": "2025-04-18T06:47:46.070564Z",
          "shell.execute_reply.started": "2025-04-18T06:47:46.060517Z",
          "shell.execute_reply": "2025-04-18T06:47:46.069570Z"
        },
        "id": "11pNuGXKxHYu"
      },
      "outputs": [],
      "execution_count": null
    },
    {
      "cell_type": "code",
      "source": [
        "string_columns = df.select_dtypes(include=['object']).columns\n",
        "\n",
        "for col in string_columns:\n",
        "    df[col] = df[col].str.strip()"
      ],
      "metadata": {
        "trusted": true,
        "execution": {
          "iopub.status.busy": "2025-04-18T06:48:10.276221Z",
          "iopub.execute_input": "2025-04-18T06:48:10.277315Z",
          "iopub.status.idle": "2025-04-18T06:48:10.342656Z",
          "shell.execute_reply.started": "2025-04-18T06:48:10.277267Z",
          "shell.execute_reply": "2025-04-18T06:48:10.341650Z"
        },
        "id": "t-KdXoh_xHYu"
      },
      "outputs": [],
      "execution_count": null
    },
    {
      "cell_type": "code",
      "source": [
        "string_columns"
      ],
      "metadata": {
        "trusted": true,
        "execution": {
          "iopub.status.busy": "2025-04-18T06:48:18.579620Z",
          "iopub.execute_input": "2025-04-18T06:48:18.580037Z",
          "iopub.status.idle": "2025-04-18T06:48:18.587710Z",
          "shell.execute_reply.started": "2025-04-18T06:48:18.580007Z",
          "shell.execute_reply": "2025-04-18T06:48:18.586538Z"
        },
        "id": "smlw4o4RxHYu",
        "outputId": "31091a10-96a3-4f01-c78f-53581e308110"
      },
      "outputs": [
        {
          "execution_count": 11,
          "output_type": "execute_result",
          "data": {
            "text/plain": "Index(['workclass', 'education', 'marital-status', 'occupation',\n       'relationship', 'race', 'sex', 'native-country', 'income'],\n      dtype='object')"
          },
          "metadata": {}
        }
      ],
      "execution_count": null
    },
    {
      "cell_type": "code",
      "source": [
        "df.shape"
      ],
      "metadata": {
        "trusted": true,
        "execution": {
          "iopub.status.busy": "2025-04-18T06:48:39.927641Z",
          "iopub.execute_input": "2025-04-18T06:48:39.928603Z",
          "iopub.status.idle": "2025-04-18T06:48:39.934846Z",
          "shell.execute_reply.started": "2025-04-18T06:48:39.928570Z",
          "shell.execute_reply": "2025-04-18T06:48:39.933877Z"
        },
        "id": "ZxcT4tl7xHYu",
        "outputId": "abce3a11-91ae-4c79-ff3a-a78664b22108"
      },
      "outputs": [
        {
          "execution_count": 12,
          "output_type": "execute_result",
          "data": {
            "text/plain": "(32561, 15)"
          },
          "metadata": {}
        }
      ],
      "execution_count": null
    },
    {
      "cell_type": "code",
      "source": [
        "df.sample(5)"
      ],
      "metadata": {
        "trusted": true,
        "execution": {
          "iopub.status.busy": "2025-04-18T06:48:42.315534Z",
          "iopub.execute_input": "2025-04-18T06:48:42.315925Z",
          "iopub.status.idle": "2025-04-18T06:48:42.337188Z",
          "shell.execute_reply.started": "2025-04-18T06:48:42.315896Z",
          "shell.execute_reply": "2025-04-18T06:48:42.336163Z"
        },
        "id": "b9jkextyxHYu",
        "outputId": "74d5f00f-cd3b-4c03-beec-bdb518c6388f"
      },
      "outputs": [
        {
          "execution_count": 13,
          "output_type": "execute_result",
          "data": {
            "text/plain": "       age         workclass  fnlwgt     education  education-num  \\\n19688   56         Local-gov  104996       HS-grad              9   \n26736   30           Private  196342       Masters             14   \n28176   79       Federal-gov   62176     Doctorate             16   \n4674    62  Self-emp-not-inc  123170  Some-college             10   \n7677    44           Private  191893       HS-grad              9   \n\n           marital-status        occupation   relationship   race     sex  \\\n19688  Married-civ-spouse  Transport-moving        Husband  White    Male   \n26736       Never-married    Prof-specialty  Not-in-family  White    Male   \n28176             Widowed   Exec-managerial  Not-in-family  White    Male   \n4674   Married-civ-spouse   Exec-managerial        Husband  White    Male   \n7677        Never-married     Other-service      Own-child  White  Female   \n\n       capital-gain  capital-loss  hours-per-week native-country income  \n19688             0             0              40  United-States  <=50K  \n26736             0             0              40        Ireland  <=50K  \n28176             0             0               6  United-States   >50K  \n4674              0             0              10  United-States  <=50K  \n7677              0             0              24  United-States  <=50K  ",
            "text/html": "<div>\n<style scoped>\n    .dataframe tbody tr th:only-of-type {\n        vertical-align: middle;\n    }\n\n    .dataframe tbody tr th {\n        vertical-align: top;\n    }\n\n    .dataframe thead th {\n        text-align: right;\n    }\n</style>\n<table border=\"1\" class=\"dataframe\">\n  <thead>\n    <tr style=\"text-align: right;\">\n      <th></th>\n      <th>age</th>\n      <th>workclass</th>\n      <th>fnlwgt</th>\n      <th>education</th>\n      <th>education-num</th>\n      <th>marital-status</th>\n      <th>occupation</th>\n      <th>relationship</th>\n      <th>race</th>\n      <th>sex</th>\n      <th>capital-gain</th>\n      <th>capital-loss</th>\n      <th>hours-per-week</th>\n      <th>native-country</th>\n      <th>income</th>\n    </tr>\n  </thead>\n  <tbody>\n    <tr>\n      <th>19688</th>\n      <td>56</td>\n      <td>Local-gov</td>\n      <td>104996</td>\n      <td>HS-grad</td>\n      <td>9</td>\n      <td>Married-civ-spouse</td>\n      <td>Transport-moving</td>\n      <td>Husband</td>\n      <td>White</td>\n      <td>Male</td>\n      <td>0</td>\n      <td>0</td>\n      <td>40</td>\n      <td>United-States</td>\n      <td>&lt;=50K</td>\n    </tr>\n    <tr>\n      <th>26736</th>\n      <td>30</td>\n      <td>Private</td>\n      <td>196342</td>\n      <td>Masters</td>\n      <td>14</td>\n      <td>Never-married</td>\n      <td>Prof-specialty</td>\n      <td>Not-in-family</td>\n      <td>White</td>\n      <td>Male</td>\n      <td>0</td>\n      <td>0</td>\n      <td>40</td>\n      <td>Ireland</td>\n      <td>&lt;=50K</td>\n    </tr>\n    <tr>\n      <th>28176</th>\n      <td>79</td>\n      <td>Federal-gov</td>\n      <td>62176</td>\n      <td>Doctorate</td>\n      <td>16</td>\n      <td>Widowed</td>\n      <td>Exec-managerial</td>\n      <td>Not-in-family</td>\n      <td>White</td>\n      <td>Male</td>\n      <td>0</td>\n      <td>0</td>\n      <td>6</td>\n      <td>United-States</td>\n      <td>&gt;50K</td>\n    </tr>\n    <tr>\n      <th>4674</th>\n      <td>62</td>\n      <td>Self-emp-not-inc</td>\n      <td>123170</td>\n      <td>Some-college</td>\n      <td>10</td>\n      <td>Married-civ-spouse</td>\n      <td>Exec-managerial</td>\n      <td>Husband</td>\n      <td>White</td>\n      <td>Male</td>\n      <td>0</td>\n      <td>0</td>\n      <td>10</td>\n      <td>United-States</td>\n      <td>&lt;=50K</td>\n    </tr>\n    <tr>\n      <th>7677</th>\n      <td>44</td>\n      <td>Private</td>\n      <td>191893</td>\n      <td>HS-grad</td>\n      <td>9</td>\n      <td>Never-married</td>\n      <td>Other-service</td>\n      <td>Own-child</td>\n      <td>White</td>\n      <td>Female</td>\n      <td>0</td>\n      <td>0</td>\n      <td>24</td>\n      <td>United-States</td>\n      <td>&lt;=50K</td>\n    </tr>\n  </tbody>\n</table>\n</div>"
          },
          "metadata": {}
        }
      ],
      "execution_count": null
    },
    {
      "cell_type": "code",
      "source": [
        "import great_expectations as gx\n",
        "print(gx.__version__)"
      ],
      "metadata": {
        "trusted": true,
        "execution": {
          "iopub.status.busy": "2025-04-18T06:48:54.372533Z",
          "iopub.execute_input": "2025-04-18T06:48:54.373004Z",
          "iopub.status.idle": "2025-04-18T06:49:28.233852Z",
          "shell.execute_reply.started": "2025-04-18T06:48:54.372964Z",
          "shell.execute_reply": "2025-04-18T06:49:28.232938Z"
        },
        "id": "cMxOvzFJxHYu",
        "outputId": "81f57c47-52ea-4d94-a5fa-e16fb3a7ac3d"
      },
      "outputs": [
        {
          "name": "stdout",
          "text": "1.0.0a1\n",
          "output_type": "stream"
        }
      ],
      "execution_count": null
    },
    {
      "cell_type": "code",
      "source": [
        "from great_expectations import get_context\n",
        "\n",
        "# Initialize the DataContext\n",
        "context = get_context()\n",
        "\n",
        "# Now you can create your dataset with the active context\n",
        "adult_data_gx = gx.dataset.PandasDataset(df)"
      ],
      "metadata": {
        "trusted": true,
        "execution": {
          "iopub.status.busy": "2025-04-18T06:49:49.459448Z",
          "iopub.execute_input": "2025-04-18T06:49:49.459782Z",
          "iopub.status.idle": "2025-04-18T06:49:49.480635Z",
          "shell.execute_reply.started": "2025-04-18T06:49:49.459732Z",
          "shell.execute_reply": "2025-04-18T06:49:49.479929Z"
        },
        "id": "uE-gHb5bxHYu"
      },
      "outputs": [],
      "execution_count": null
    },
    {
      "cell_type": "code",
      "source": [
        "adult_data_gx.expect_column_values_to_be_between(\"age\",min_value=1, max_value=100)"
      ],
      "metadata": {
        "trusted": true,
        "execution": {
          "iopub.status.busy": "2025-04-18T06:50:03.493478Z",
          "iopub.execute_input": "2025-04-18T06:50:03.493860Z",
          "iopub.status.idle": "2025-04-18T06:50:03.506900Z",
          "shell.execute_reply.started": "2025-04-18T06:50:03.493834Z",
          "shell.execute_reply": "2025-04-18T06:50:03.505863Z"
        },
        "id": "uFa8QvAXxHYv",
        "outputId": "6f6dda39-268c-4c3e-efeb-c0658f5d99fc"
      },
      "outputs": [
        {
          "execution_count": 17,
          "output_type": "execute_result",
          "data": {
            "text/plain": "{\n  \"success\": true,\n  \"result\": {\n    \"element_count\": 32561,\n    \"missing_count\": 0,\n    \"missing_percent\": 0.0,\n    \"unexpected_count\": 0,\n    \"unexpected_percent\": 0.0,\n    \"unexpected_percent_total\": 0.0,\n    \"unexpected_percent_nonmissing\": 0.0,\n    \"partial_unexpected_list\": []\n  },\n  \"meta\": {},\n  \"exception_info\": {\n    \"raised_exception\": false,\n    \"exception_traceback\": null,\n    \"exception_message\": null\n  }\n}"
          },
          "metadata": {}
        }
      ],
      "execution_count": null
    },
    {
      "cell_type": "code",
      "source": [
        "adult_data_gx.expect_column_values_to_be_in_set(\"workclass\", ('Private', 'Self-emp-not-inc', 'Self-emp-inc', 'Federal-gov', 'Local-gov', 'State-gov', 'Without-pay', 'Never-worked',\"?\"))"
      ],
      "metadata": {
        "trusted": true,
        "execution": {
          "iopub.status.busy": "2025-04-18T06:50:15.814862Z",
          "iopub.execute_input": "2025-04-18T06:50:15.815195Z",
          "iopub.status.idle": "2025-04-18T06:50:15.829634Z",
          "shell.execute_reply.started": "2025-04-18T06:50:15.815173Z",
          "shell.execute_reply": "2025-04-18T06:50:15.828885Z"
        },
        "id": "85bhszTQxHYv",
        "outputId": "85d0d651-4842-4ba9-d8ca-6146124f4dd1"
      },
      "outputs": [
        {
          "execution_count": 18,
          "output_type": "execute_result",
          "data": {
            "text/plain": "{\n  \"success\": true,\n  \"result\": {\n    \"element_count\": 32561,\n    \"missing_count\": 0,\n    \"missing_percent\": 0.0,\n    \"unexpected_count\": 0,\n    \"unexpected_percent\": 0.0,\n    \"unexpected_percent_total\": 0.0,\n    \"unexpected_percent_nonmissing\": 0.0,\n    \"partial_unexpected_list\": []\n  },\n  \"meta\": {},\n  \"exception_info\": {\n    \"raised_exception\": false,\n    \"exception_traceback\": null,\n    \"exception_message\": null\n  }\n}"
          },
          "metadata": {}
        }
      ],
      "execution_count": null
    },
    {
      "cell_type": "code",
      "source": [
        "adult_data_gx.expect_column_values_to_be_in_set(\"education\", ('Bachelors', 'Some-college', '11th', 'HS-grad', 'Prof-school', 'Assoc-acdm', 'Assoc-voc', '9th', '7th-8th', '12th', 'Masters', '1st-4th', '10th', 'Doctorate', '5th-6th', 'Preschool'))"
      ],
      "metadata": {
        "trusted": true,
        "execution": {
          "iopub.status.busy": "2025-04-18T06:50:27.114226Z",
          "iopub.execute_input": "2025-04-18T06:50:27.114766Z",
          "iopub.status.idle": "2025-04-18T06:50:27.127141Z",
          "shell.execute_reply.started": "2025-04-18T06:50:27.114716Z",
          "shell.execute_reply": "2025-04-18T06:50:27.126287Z"
        },
        "id": "wnRw7u_hxHYv",
        "outputId": "3311eb73-86bb-44df-a55d-ba3168bf36c7"
      },
      "outputs": [
        {
          "execution_count": 19,
          "output_type": "execute_result",
          "data": {
            "text/plain": "{\n  \"success\": true,\n  \"result\": {\n    \"element_count\": 32561,\n    \"missing_count\": 0,\n    \"missing_percent\": 0.0,\n    \"unexpected_count\": 0,\n    \"unexpected_percent\": 0.0,\n    \"unexpected_percent_total\": 0.0,\n    \"unexpected_percent_nonmissing\": 0.0,\n    \"partial_unexpected_list\": []\n  },\n  \"meta\": {},\n  \"exception_info\": {\n    \"raised_exception\": false,\n    \"exception_traceback\": null,\n    \"exception_message\": null\n  }\n}"
          },
          "metadata": {}
        }
      ],
      "execution_count": null
    },
    {
      "cell_type": "code",
      "source": [
        "adult_data_gx.expect_column_values_to_be_in_set(\"marital-status\", ('Married-civ-spouse', 'Divorced', 'Never-married', 'Separated', 'Widowed', 'Married-spouse-absent', 'Married-AF-spouse'))"
      ],
      "metadata": {
        "trusted": true,
        "execution": {
          "iopub.status.busy": "2025-04-18T06:50:42.218420Z",
          "iopub.execute_input": "2025-04-18T06:50:42.218803Z",
          "iopub.status.idle": "2025-04-18T06:50:42.232588Z",
          "shell.execute_reply.started": "2025-04-18T06:50:42.218771Z",
          "shell.execute_reply": "2025-04-18T06:50:42.231589Z"
        },
        "id": "AJspmjy_xHYv",
        "outputId": "711bf2db-1e16-4f90-a675-069eec1b6da4"
      },
      "outputs": [
        {
          "execution_count": 20,
          "output_type": "execute_result",
          "data": {
            "text/plain": "{\n  \"success\": true,\n  \"result\": {\n    \"element_count\": 32561,\n    \"missing_count\": 0,\n    \"missing_percent\": 0.0,\n    \"unexpected_count\": 0,\n    \"unexpected_percent\": 0.0,\n    \"unexpected_percent_total\": 0.0,\n    \"unexpected_percent_nonmissing\": 0.0,\n    \"partial_unexpected_list\": []\n  },\n  \"meta\": {},\n  \"exception_info\": {\n    \"raised_exception\": false,\n    \"exception_traceback\": null,\n    \"exception_message\": null\n  }\n}"
          },
          "metadata": {}
        }
      ],
      "execution_count": null
    },
    {
      "cell_type": "code",
      "source": [
        "adult_data_gx.expect_column_values_to_be_in_set(\"occupation\", (\"?\",'Tech-support', 'Craft-repair', 'Other-service', 'Sales', 'Exec-managerial', 'Prof-specialty', 'Handlers-cleaners', 'Machine-op-inspct', 'Adm-clerical', 'Farming-fishing', 'Transport-moving', 'Priv-house-serv', 'Protective-serv', 'Armed-Forces'))"
      ],
      "metadata": {
        "trusted": true,
        "execution": {
          "iopub.status.busy": "2025-04-18T06:50:52.250182Z",
          "iopub.execute_input": "2025-04-18T06:50:52.250536Z",
          "iopub.status.idle": "2025-04-18T06:50:52.265108Z",
          "shell.execute_reply.started": "2025-04-18T06:50:52.250512Z",
          "shell.execute_reply": "2025-04-18T06:50:52.264045Z"
        },
        "id": "3iycGTnKxHYv",
        "outputId": "741cb759-59b8-4f13-8835-368fe4c981af"
      },
      "outputs": [
        {
          "execution_count": 21,
          "output_type": "execute_result",
          "data": {
            "text/plain": "{\n  \"success\": true,\n  \"result\": {\n    \"element_count\": 32561,\n    \"missing_count\": 0,\n    \"missing_percent\": 0.0,\n    \"unexpected_count\": 0,\n    \"unexpected_percent\": 0.0,\n    \"unexpected_percent_total\": 0.0,\n    \"unexpected_percent_nonmissing\": 0.0,\n    \"partial_unexpected_list\": []\n  },\n  \"meta\": {},\n  \"exception_info\": {\n    \"raised_exception\": false,\n    \"exception_traceback\": null,\n    \"exception_message\": null\n  }\n}"
          },
          "metadata": {}
        }
      ],
      "execution_count": null
    },
    {
      "cell_type": "code",
      "source": [
        "adult_data_gx.expect_column_values_to_be_in_set(\"relationship\", ('Wife', 'Own-child', 'Husband', 'Not-in-family', 'Other-relative', 'Unmarried'))"
      ],
      "metadata": {
        "trusted": true,
        "execution": {
          "iopub.status.busy": "2025-04-18T06:51:00.568658Z",
          "iopub.execute_input": "2025-04-18T06:51:00.569146Z",
          "iopub.status.idle": "2025-04-18T06:51:00.587239Z",
          "shell.execute_reply.started": "2025-04-18T06:51:00.569101Z",
          "shell.execute_reply": "2025-04-18T06:51:00.586160Z"
        },
        "id": "ruPsTsD3xHYv",
        "outputId": "144080a5-ad0f-47de-b017-d815db7c997f"
      },
      "outputs": [
        {
          "execution_count": 22,
          "output_type": "execute_result",
          "data": {
            "text/plain": "{\n  \"success\": true,\n  \"result\": {\n    \"element_count\": 32561,\n    \"missing_count\": 0,\n    \"missing_percent\": 0.0,\n    \"unexpected_count\": 0,\n    \"unexpected_percent\": 0.0,\n    \"unexpected_percent_total\": 0.0,\n    \"unexpected_percent_nonmissing\": 0.0,\n    \"partial_unexpected_list\": []\n  },\n  \"meta\": {},\n  \"exception_info\": {\n    \"raised_exception\": false,\n    \"exception_traceback\": null,\n    \"exception_message\": null\n  }\n}"
          },
          "metadata": {}
        }
      ],
      "execution_count": null
    },
    {
      "cell_type": "code",
      "source": [
        "adult_data_gx.expect_column_values_to_be_in_set(\"race\", ('White', 'Asian-Pac-Islander', 'Amer-Indian-Eskimo', 'Other', 'Black'))"
      ],
      "metadata": {
        "trusted": true,
        "execution": {
          "iopub.status.busy": "2025-04-18T06:51:09.324319Z",
          "iopub.execute_input": "2025-04-18T06:51:09.324687Z",
          "iopub.status.idle": "2025-04-18T06:51:09.338984Z",
          "shell.execute_reply.started": "2025-04-18T06:51:09.324651Z",
          "shell.execute_reply": "2025-04-18T06:51:09.338033Z"
        },
        "id": "9Ivzy6nWxHYv",
        "outputId": "b72277c0-da1a-413f-c9f8-a08d85c02a9d"
      },
      "outputs": [
        {
          "execution_count": 23,
          "output_type": "execute_result",
          "data": {
            "text/plain": "{\n  \"success\": true,\n  \"result\": {\n    \"element_count\": 32561,\n    \"missing_count\": 0,\n    \"missing_percent\": 0.0,\n    \"unexpected_count\": 0,\n    \"unexpected_percent\": 0.0,\n    \"unexpected_percent_total\": 0.0,\n    \"unexpected_percent_nonmissing\": 0.0,\n    \"partial_unexpected_list\": []\n  },\n  \"meta\": {},\n  \"exception_info\": {\n    \"raised_exception\": false,\n    \"exception_traceback\": null,\n    \"exception_message\": null\n  }\n}"
          },
          "metadata": {}
        }
      ],
      "execution_count": null
    },
    {
      "cell_type": "code",
      "source": [
        "adult_data_gx.expect_column_values_to_be_in_set(\"sex\", ('Female', 'Male'))"
      ],
      "metadata": {
        "trusted": true,
        "execution": {
          "iopub.status.busy": "2025-04-18T06:51:17.016116Z",
          "iopub.execute_input": "2025-04-18T06:51:17.016857Z",
          "iopub.status.idle": "2025-04-18T06:51:17.028988Z",
          "shell.execute_reply.started": "2025-04-18T06:51:17.016831Z",
          "shell.execute_reply": "2025-04-18T06:51:17.028296Z"
        },
        "id": "ujQqbeWlxHYv",
        "outputId": "1d404ced-98ce-49db-8cb9-dcb5101935b6"
      },
      "outputs": [
        {
          "execution_count": 24,
          "output_type": "execute_result",
          "data": {
            "text/plain": "{\n  \"success\": true,\n  \"result\": {\n    \"element_count\": 32561,\n    \"missing_count\": 0,\n    \"missing_percent\": 0.0,\n    \"unexpected_count\": 0,\n    \"unexpected_percent\": 0.0,\n    \"unexpected_percent_total\": 0.0,\n    \"unexpected_percent_nonmissing\": 0.0,\n    \"partial_unexpected_list\": []\n  },\n  \"meta\": {},\n  \"exception_info\": {\n    \"raised_exception\": false,\n    \"exception_traceback\": null,\n    \"exception_message\": null\n  }\n}"
          },
          "metadata": {}
        }
      ],
      "execution_count": null
    },
    {
      "cell_type": "code",
      "source": [
        "adult_data_gx.expect_column_values_to_be_in_set(\"native-country\", (\"?\",'United-States', 'Cambodia', 'England', 'Puerto-Rico', 'Canada', 'Germany', 'Outlying-US(Guam-USVI-etc)', 'India', 'Japan', 'Greece', 'South', 'China', 'Cuba', 'Iran', 'Honduras', 'Philippines', 'Italy', 'Poland', 'Jamaica', 'Vietnam', 'Mexico', 'Portugal', 'Ireland', 'France', 'Dominican-Republic', 'Laos', 'Ecuador', 'Taiwan', 'Haiti', 'Columbia', 'Hungary', 'Guatemala', 'Nicaragua', 'Scotland', 'Thailand', 'Yugoslavia', 'El-Salvador', 'Trinadad&Tobago', 'Peru', 'Hong', 'Holand-Netherlands'))"
      ],
      "metadata": {
        "trusted": true,
        "execution": {
          "iopub.status.busy": "2025-04-18T06:51:26.293230Z",
          "iopub.execute_input": "2025-04-18T06:51:26.293556Z",
          "iopub.status.idle": "2025-04-18T06:51:26.308631Z",
          "shell.execute_reply.started": "2025-04-18T06:51:26.293536Z",
          "shell.execute_reply": "2025-04-18T06:51:26.307637Z"
        },
        "id": "AJyU_uVLxHYv",
        "outputId": "cc087ab3-c675-485c-8577-33744055f2a2"
      },
      "outputs": [
        {
          "execution_count": 25,
          "output_type": "execute_result",
          "data": {
            "text/plain": "{\n  \"success\": true,\n  \"result\": {\n    \"element_count\": 32561,\n    \"missing_count\": 0,\n    \"missing_percent\": 0.0,\n    \"unexpected_count\": 0,\n    \"unexpected_percent\": 0.0,\n    \"unexpected_percent_total\": 0.0,\n    \"unexpected_percent_nonmissing\": 0.0,\n    \"partial_unexpected_list\": []\n  },\n  \"meta\": {},\n  \"exception_info\": {\n    \"raised_exception\": false,\n    \"exception_traceback\": null,\n    \"exception_message\": null\n  }\n}"
          },
          "metadata": {}
        }
      ],
      "execution_count": null
    },
    {
      "cell_type": "code",
      "source": [
        "adult_data_gx.expect_column_values_to_be_in_set(\"income\", ('<=50K', '>50K'))"
      ],
      "metadata": {
        "trusted": true,
        "execution": {
          "iopub.status.busy": "2025-04-18T06:51:37.016354Z",
          "iopub.execute_input": "2025-04-18T06:51:37.016713Z",
          "iopub.status.idle": "2025-04-18T06:51:37.030255Z",
          "shell.execute_reply.started": "2025-04-18T06:51:37.016686Z",
          "shell.execute_reply": "2025-04-18T06:51:37.029234Z"
        },
        "id": "tGnu12waxHYw",
        "outputId": "11266c3a-e216-459c-e0d0-a12ec1b2514c"
      },
      "outputs": [
        {
          "execution_count": 26,
          "output_type": "execute_result",
          "data": {
            "text/plain": "{\n  \"success\": true,\n  \"result\": {\n    \"element_count\": 32561,\n    \"missing_count\": 0,\n    \"missing_percent\": 0.0,\n    \"unexpected_count\": 0,\n    \"unexpected_percent\": 0.0,\n    \"unexpected_percent_total\": 0.0,\n    \"unexpected_percent_nonmissing\": 0.0,\n    \"partial_unexpected_list\": []\n  },\n  \"meta\": {},\n  \"exception_info\": {\n    \"raised_exception\": false,\n    \"exception_traceback\": null,\n    \"exception_message\": null\n  }\n}"
          },
          "metadata": {}
        }
      ],
      "execution_count": null
    },
    {
      "cell_type": "code",
      "source": [
        "adult_data_gx[\"income\"] = adult_data_gx[\"income\"].str.strip().str.replace(\".\", \"\", regex=False)\n",
        "df[\"income\"] = df[\"income\"].str.strip().str.replace(\".\", \"\", regex=False)"
      ],
      "metadata": {
        "trusted": true,
        "execution": {
          "iopub.status.busy": "2025-04-18T06:51:59.366382Z",
          "iopub.execute_input": "2025-04-18T06:51:59.367267Z",
          "iopub.status.idle": "2025-04-18T06:51:59.398552Z",
          "shell.execute_reply.started": "2025-04-18T06:51:59.367229Z",
          "shell.execute_reply": "2025-04-18T06:51:59.397635Z"
        },
        "id": "Eh5WtsTdxHYw"
      },
      "outputs": [],
      "execution_count": null
    },
    {
      "cell_type": "code",
      "source": [
        "adult_data_gx.expect_column_values_to_be_in_set(\"income\", ('<=50K', '>50K'))"
      ],
      "metadata": {
        "trusted": true,
        "execution": {
          "iopub.status.busy": "2025-04-18T06:52:08.409074Z",
          "iopub.execute_input": "2025-04-18T06:52:08.409448Z",
          "iopub.status.idle": "2025-04-18T06:52:08.424175Z",
          "shell.execute_reply.started": "2025-04-18T06:52:08.409422Z",
          "shell.execute_reply": "2025-04-18T06:52:08.423130Z"
        },
        "id": "pZGwkrc1xHYw",
        "outputId": "9496bce8-19fe-4eb7-cf38-2ac1069cb768"
      },
      "outputs": [
        {
          "execution_count": 29,
          "output_type": "execute_result",
          "data": {
            "text/plain": "{\n  \"success\": true,\n  \"result\": {\n    \"element_count\": 32561,\n    \"missing_count\": 0,\n    \"missing_percent\": 0.0,\n    \"unexpected_count\": 0,\n    \"unexpected_percent\": 0.0,\n    \"unexpected_percent_total\": 0.0,\n    \"unexpected_percent_nonmissing\": 0.0,\n    \"partial_unexpected_list\": []\n  },\n  \"meta\": {},\n  \"exception_info\": {\n    \"raised_exception\": false,\n    \"exception_traceback\": null,\n    \"exception_message\": null\n  }\n}"
          },
          "metadata": {}
        }
      ],
      "execution_count": null
    },
    {
      "cell_type": "code",
      "source": [
        "adult_data_gx = gx.dataset.PandasDataset(df)\n",
        "\n",
        "# === Manual Expectations ===\n",
        "\n",
        "# Age: Between 17 and 90\n",
        "adult_data_gx.expect_column_values_to_be_between(\"age\", min_value=17, max_value=90)\n",
        "adult_data_gx.expect_column_values_to_not_be_null(\"age\")\n",
        "\n",
        "# Workclass: One of the known categories (no missing)\n",
        "adult_data_gx.expect_column_values_to_be_in_set(\"workclass\", [\n",
        "    \"Private\", \"Self-emp-not-inc\", \"Self-emp-inc\", \"Federal-gov\", \"Local-gov\", \"State-gov\", \"Without-pay\", \"Never-worked\",\"?\"\n",
        "])\n",
        "adult_data_gx.expect_column_values_to_not_be_null(\"workclass\")\n",
        "\n",
        "# fnlwgt: Positive integers\n",
        "adult_data_gx.expect_column_values_to_be_between(\"fnlwgt\", min_value=1)\n",
        "adult_data_gx.expect_column_values_to_not_be_null(\"fnlwgt\")\n",
        "\n",
        "# Education\n",
        "adult_data_gx.expect_column_values_to_be_in_set(\"education\", [\n",
        "    \"Bachelors\", \"HS-grad\", \"11th\", \"Masters\", \"9th\", \"Some-college\", \"Assoc-acdm\",\n",
        "    \"Assoc-voc\", \"7th-8th\", \"Doctorate\", \"Prof-school\", \"5th-6th\", \"1st-4th\", \"10th\",\n",
        "    \"Preschool\", \"12th\"\n",
        "])\n",
        "adult_data_gx.expect_column_values_to_not_be_null(\"education\")\n",
        "\n",
        "# education-num: 1 to 16\n",
        "adult_data_gx.expect_column_values_to_be_between(\"education-num\", min_value=1, max_value=16)\n",
        "\n",
        "# marital-status\n",
        "adult_data_gx.expect_column_values_to_be_in_set(\"marital-status\", [\n",
        "    \"Married-civ-spouse\", \"Divorced\", \"Never-married\", \"Separated\", \"Widowed\", \"Married-spouse-absent\", \"Married-AF-spouse\"\n",
        "])\n",
        "adult_data_gx.expect_column_values_to_not_be_null(\"marital-status\")\n",
        "\n",
        "# occupation (might need to handle missing values separately)\n",
        "adult_data_gx.expect_column_values_to_not_be_null(\"occupation\")\n",
        "\n",
        "# relationship\n",
        "adult_data_gx.expect_column_values_to_be_in_set(\"relationship\", [\n",
        "    \"Wife\", \"Own-child\", \"Husband\", \"Not-in-family\", \"Other-relative\", \"Unmarried\"\n",
        "])\n",
        "adult_data_gx.expect_column_values_to_not_be_null(\"relationship\")\n",
        "\n",
        "# race\n",
        "adult_data_gx.expect_column_values_to_be_in_set(\"race\", [\n",
        "    \"White\", \"Asian-Pac-Islander\", \"Amer-Indian-Eskimo\", \"Other\", \"Black\"\n",
        "])\n",
        "\n",
        "# sex\n",
        "adult_data_gx.expect_column_values_to_be_in_set(\"sex\", [\"Male\", \"Female\"])\n",
        "\n",
        "# capital-gain and capital-loss: >= 0\n",
        "adult_data_gx.expect_column_values_to_be_between(\"capital-gain\", min_value=0)\n",
        "adult_data_gx.expect_column_values_to_be_between(\"capital-loss\", min_value=0)\n",
        "\n",
        "# hours-per-week: reasonable range\n",
        "adult_data_gx.expect_column_values_to_be_between(\"hours-per-week\", min_value=1, max_value=100)\n",
        "\n",
        "# native-country\n",
        "adult_data_gx.expect_column_values_to_not_be_null(\"native-country\")\n",
        "\n",
        "# income: clean categories\n",
        "adult_data_gx.expect_column_values_to_be_in_set(\"income\", [\"<=50K\", \">50K\"])\n",
        "\n",
        "# === Run the validation ===\n",
        "result = adult_data_gx.validate()\n",
        "\n",
        "# Print result summary\n",
        "from pprint import pprint\n",
        "print(\"\\n Manual Validation Summary:\")\n",
        "pprint(result[\"statistics\"])"
      ],
      "metadata": {
        "trusted": true,
        "execution": {
          "iopub.status.busy": "2025-04-18T06:53:09.822093Z",
          "iopub.execute_input": "2025-04-18T06:53:09.822451Z",
          "iopub.status.idle": "2025-04-18T06:53:09.999593Z",
          "shell.execute_reply.started": "2025-04-18T06:53:09.822430Z",
          "shell.execute_reply": "2025-04-18T06:53:09.998608Z"
        },
        "id": "WDBZsGeexHYw",
        "outputId": "06ae331b-a413-4276-f1e3-48358cf20f50"
      },
      "outputs": [
        {
          "name": "stdout",
          "text": "\n Manual Validation Summary:\n{'evaluated_expectations': 21,\n 'success_percent': 100.0,\n 'successful_expectations': 21,\n 'unsuccessful_expectations': 0}\n",
          "output_type": "stream"
        }
      ],
      "execution_count": null
    },
    {
      "cell_type": "code",
      "source": [],
      "metadata": {
        "trusted": true,
        "id": "XPnDH1hfxHYw"
      },
      "outputs": [],
      "execution_count": null
    }
  ]
}